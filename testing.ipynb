{
 "cells": [
  {
   "cell_type": "code",
   "execution_count": null,
   "metadata": {},
   "outputs": [],
   "source": [
    "import requests\n",
    "import os\n",
    "\n",
    "# Function to download with progress\n",
    "def download_file(url, filename):\n",
    "    with requests.get(url, stream=True) as r:\n",
    "        r.raise_for_status()\n",
    "        total = int(r.headers.get('content-length', 0))\n",
    "        with open(filename, 'wb') as f:\n",
    "            downloaded = 0\n",
    "            for chunk in r.iter_content(chunk_size=8192):\n",
    "                if chunk:\n",
    "                    f.write(chunk)\n",
    "                    downloaded += len(chunk)\n",
    "                    print(f\"\\rDownloaded {downloaded/1024/1024:.2f} MB of {total/1024/1024:.2f} MB\", end=\"\")\n",
    "    print(\"\\nDownload complete!\")\n",
    "\n",
    "# Replace with your Kaggle API token\n",
    "os.environ['KAGGLE_USERNAME'] = 'kailashjoseph'\n",
    "os.environ['KAGGLE_KEY'] = 'ec4e025a825f9d798aff92ab770830eb'\n",
    "\n",
    "# Try to use the Kaggle API through Python\n",
    "from kaggle.api.kaggle_api_extended import KaggleApi\n",
    "api = KaggleApi()\n",
    "api.authenticate()\n",
    "\n",
    "# Download the dataset\n",
    "api.dataset_download_files('wildlifedatasets/wildlifereid-10k', path='./wildlifereid-10k')"
   ]
  },
  {
   "cell_type": "code",
   "execution_count": null,
   "metadata": {},
   "outputs": [],
   "source": [
    "pip install kaggle"
   ]
  }
 ],
 "metadata": {
  "kernelspec": {
   "display_name": "Python 3",
   "language": "python",
   "name": "python3"
  },
  "language_info": {
   "codemirror_mode": {
    "name": "ipython",
    "version": 3
   },
   "file_extension": ".py",
   "mimetype": "text/x-python",
   "name": "python",
   "nbconvert_exporter": "python",
   "pygments_lexer": "ipython3",
   "version": "3.12.6"
  }
 },
 "nbformat": 4,
 "nbformat_minor": 2
}
