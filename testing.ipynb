{
 "cells": [
  {
   "cell_type": "code",
   "execution_count": 1,
   "metadata": {},
   "outputs": [
    {
     "name": "stdout",
     "output_type": "stream",
     "text": [
      "Dataset URL: https://www.kaggle.com/datasets/wildlifedatasets/wildlifereid-10k\n"
     ]
    }
   ],
   "source": [
    "import requests\n",
    "import os\n",
    "\n",
    "# Function to download with progress\n",
    "def download_file(url, filename):\n",
    "    with requests.get(url, stream=True) as r:\n",
    "        r.raise_for_status()\n",
    "        total = int(r.headers.get('content-length', 0))\n",
    "        with open(filename, 'wb') as f:\n",
    "            downloaded = 0\n",
    "            for chunk in r.iter_content(chunk_size=8192):\n",
    "                if chunk:\n",
    "                    f.write(chunk)\n",
    "                    downloaded += len(chunk)\n",
    "                    print(f\"\\rDownloaded {downloaded/1024/1024:.2f} MB of {total/1024/1024:.2f} MB\", end=\"\")\n",
    "    print(\"\\nDownload complete!\")\n",
    "\n",
    "# Replace with your Kaggle API token\n",
    "os.environ['KAGGLE_USERNAME'] = 'kailashjoseph'\n",
    "os.environ['KAGGLE_KEY'] = 'ec4e025a825f9d798aff92ab770830eb'\n",
    "\n",
    "# Try to use the Kaggle API through Python\n",
    "from kaggle.api.kaggle_api_extended import KaggleApi\n",
    "api = KaggleApi()\n",
    "api.authenticate()\n",
    "\n",
    "# Download the dataset\n",
    "api.dataset_download_files('wildlifedatasets/wildlifereid-10k', path='./wildlifereid-10k')"
   ]
  },
  {
   "cell_type": "code",
   "execution_count": 3,
   "metadata": {},
   "outputs": [
    {
     "name": "stdout",
     "output_type": "stream",
     "text": [
      "Requirement already satisfied: kaggle in /workspace/.pyenv_mirror/user/current/lib/python3.12/site-packages (1.7.4.2)\n",
      "Requirement already satisfied: bleach in /home/gitpod/.pyenv/versions/3.12.9/lib/python3.12/site-packages (from kaggle) (6.2.0)\n",
      "Requirement already satisfied: certifi>=14.05.14 in /home/gitpod/.pyenv/versions/3.12.9/lib/python3.12/site-packages (from kaggle) (2025.1.31)\n",
      "Requirement already satisfied: charset-normalizer in /home/gitpod/.pyenv/versions/3.12.9/lib/python3.12/site-packages (from kaggle) (3.4.1)\n",
      "Requirement already satisfied: idna in /home/gitpod/.pyenv/versions/3.12.9/lib/python3.12/site-packages (from kaggle) (3.10)\n",
      "Requirement already satisfied: protobuf in /workspace/.pyenv_mirror/user/current/lib/python3.12/site-packages (from kaggle) (6.30.2)\n",
      "Requirement already satisfied: python-dateutil>=2.5.3 in /home/gitpod/.pyenv/versions/3.12.9/lib/python3.12/site-packages (from kaggle) (2.9.0.post0)\n",
      "Requirement already satisfied: python-slugify in /workspace/.pyenv_mirror/user/current/lib/python3.12/site-packages (from kaggle) (8.0.4)\n",
      "Requirement already satisfied: requests in /home/gitpod/.pyenv/versions/3.12.9/lib/python3.12/site-packages (from kaggle) (2.32.3)\n",
      "Requirement already satisfied: setuptools>=21.0.0 in /home/gitpod/.pyenv/versions/3.12.9/lib/python3.12/site-packages (from kaggle) (75.8.0)\n",
      "Requirement already satisfied: six>=1.10 in /home/gitpod/.pyenv/versions/3.12.9/lib/python3.12/site-packages (from kaggle) (1.17.0)\n",
      "Requirement already satisfied: text-unidecode in /workspace/.pyenv_mirror/user/current/lib/python3.12/site-packages (from kaggle) (1.3)\n",
      "Requirement already satisfied: tqdm in /workspace/.pyenv_mirror/user/current/lib/python3.12/site-packages (from kaggle) (4.67.1)\n",
      "Requirement already satisfied: urllib3>=1.15.1 in /home/gitpod/.pyenv/versions/3.12.9/lib/python3.12/site-packages (from kaggle) (2.3.0)\n",
      "Requirement already satisfied: webencodings in /home/gitpod/.pyenv/versions/3.12.9/lib/python3.12/site-packages (from kaggle) (0.5.1)\n",
      "Note: you may need to restart the kernel to use updated packages.\n"
     ]
    }
   ],
   "source": [
    "pip install kaggle"
   ]
  }
 ],
 "metadata": {
  "kernelspec": {
   "display_name": "Python 3",
   "language": "python",
   "name": "python3"
  },
  "language_info": {
   "codemirror_mode": {
    "name": "ipython",
    "version": 3
   },
   "file_extension": ".py",
   "mimetype": "text/x-python",
   "name": "python",
   "nbconvert_exporter": "python",
   "pygments_lexer": "ipython3",
   "version": "3.12.9"
  }
 },
 "nbformat": 4,
 "nbformat_minor": 2
}
