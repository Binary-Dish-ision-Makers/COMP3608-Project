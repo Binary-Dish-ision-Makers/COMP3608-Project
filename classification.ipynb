{
 "cells": [
  {
   "cell_type": "markdown",
   "metadata": {},
   "source": [
    "# Code to resize the images in animal-clef-2025 and WildLifeReID-10K\n",
    "You likely will not need to run this code as I will provide the preprocessed images."
   ]
  },
  {
   "cell_type": "code",
   "execution_count": 5,
   "metadata": {},
   "outputs": [
    {
     "name": "stdout",
     "output_type": "stream",
     "text": [
      "Collecting Pillow\n",
      "  Downloading pillow-11.1.0-cp312-cp312-manylinux_2_28_x86_64.whl.metadata (9.1 kB)\n",
      "Downloading pillow-11.1.0-cp312-cp312-manylinux_2_28_x86_64.whl (4.5 MB)\n",
      "\u001b[2K   \u001b[90m━━━━━━━━━━━━━━━━━━━━━━━━━━━━━━━━━━━━━━━━\u001b[0m \u001b[32m4.5/4.5 MB\u001b[0m \u001b[31m120.3 MB/s\u001b[0m eta \u001b[36m0:00:00\u001b[0m\n",
      "\u001b[?25hInstalling collected packages: Pillow\n",
      "Successfully installed Pillow-11.1.0\n",
      "Note: you may need to restart the kernel to use updated packages.\n"
     ]
    }
   ],
   "source": [
    "pip install Pillow"
   ]
  },
  {
   "cell_type": "code",
   "execution_count": null,
   "metadata": {},
   "outputs": [],
   "source": [
    "import os\n",
    "from PIL import Image\n",
    "\n",
    "def resize_images_in_folder(parent_folder, size):\n",
    "    # Walk through all subfolders and files in the given parent folder\n",
    "    for root, dirs, files in os.walk(parent_folder):\n",
    "        for file in files:\n",
    "            # Construct full file path\n",
    "            file_path = os.path.join(root, file)\n",
    "            try:\n",
    "                # Open and resize the image\n",
    "                with Image.open(file_path) as img:\n",
    "                    img_resized = img.resize(size)\n",
    "                    # Save the resized image, optionally overwrite the original or save to a new location\n",
    "                    img_resized.save(file_path)  # overwrites original\n",
    "                    print(f\"Resized and saved: {file_path}\")\n",
    "            except Exception as e:\n",
    "                print(f\"Could not process {file_path}: {e}\")\n",
    "\n",
    "# Define the path of the 'images' folder\n",
    "images_folder = '/workspace/COMP3608-Project/animal-clef-2025/images'\n",
    "# Call the function to resize images\n",
    "resize_images_in_folder(images_folder, size=(400, 400))  # Change size as needed"
   ]
  },
  {
   "cell_type": "code",
   "execution_count": 6,
   "metadata": {},
   "outputs": [
    {
     "name": "stdout",
     "output_type": "stream",
     "text": [
      "(400, 400)\n"
     ]
    }
   ],
   "source": [
    "from PIL import Image\n",
    "\n",
    "img_path = \"/workspace/COMP3608-Project/animal-clef-2025/images/LynxID2025/database/0a1d592ec10bef0127110ebe8a6c2c02398ac14666c6c4113a361284e28dcb23.jpg\"\n",
    "img = Image.open(img_path)\n",
    "print(img.size)"
   ]
  },
  {
   "cell_type": "code",
   "execution_count": null,
   "metadata": {},
   "outputs": [],
   "source": [
    "import os\n",
    "from PIL import Image\n",
    "\n",
    "def resize_images_in_folder(parent_folder, size):\n",
    "    # Walk through all subfolders and files in the given parent folder\n",
    "    for root, dirs, files in os.walk(parent_folder):\n",
    "        for file in files:\n",
    "            # Construct full file path\n",
    "            file_path = os.path.join(root, file)\n",
    "            try:\n",
    "                # Open and resize the image\n",
    "                with Image.open(file_path) as img:\n",
    "                    img_resized = img.resize(size)\n",
    "                    # Save the resized image, optionally overwrite the original or save to a new location\n",
    "                    img_resized.save(file_path)  # overwrites original\n",
    "                    print(f\"Resized and saved: {file_path}\")\n",
    "            except Exception as e:\n",
    "                print(f\"Could not process {file_path}: {e}\")\n",
    "\n",
    "# Define the path of the 'images' folder\n",
    "images_folder = '/workspace/COMP3608-Project/WildlifeReID-10k'\n",
    "# Call the function to resize images\n",
    "resize_images_in_folder(images_folder, size=(400, 400))  # Change size as needed"
   ]
  },
  {
   "cell_type": "code",
   "execution_count": 52,
   "metadata": {},
   "outputs": [
    {
     "name": "stdout",
     "output_type": "stream",
     "text": [
      "(400, 400)\n"
     ]
    }
   ],
   "source": [
    "from PIL import Image\n",
    "\n",
    "img_path = \"/workspace/COMP3608-Project/WildlifeReID-10k/ZakynthosTurtles/rightIMG_3046_81.jpg\"\n",
    "img = Image.open(img_path)\n",
    "print(img.size)"
   ]
  },
  {
   "cell_type": "markdown",
   "metadata": {},
   "source": [
    "# Creating dataframes with labels for all the data"
   ]
  },
  {
   "cell_type": "code",
   "execution_count": 3,
   "metadata": {},
   "outputs": [
    {
     "name": "stdout",
     "output_type": "stream",
     "text": [
      "Collecting pandas\n",
      "  Downloading pandas-2.2.3-cp312-cp312-manylinux_2_17_x86_64.manylinux2014_x86_64.whl.metadata (89 kB)\n",
      "Collecting numpy>=1.26.0 (from pandas)\n",
      "  Downloading numpy-2.2.4-cp312-cp312-manylinux_2_17_x86_64.manylinux2014_x86_64.whl.metadata (62 kB)\n",
      "Requirement already satisfied: python-dateutil>=2.8.2 in /home/gitpod/.pyenv/versions/3.12.9/lib/python3.12/site-packages (from pandas) (2.9.0.post0)\n",
      "Collecting pytz>=2020.1 (from pandas)\n",
      "  Downloading pytz-2025.2-py2.py3-none-any.whl.metadata (22 kB)\n",
      "Collecting tzdata>=2022.7 (from pandas)\n",
      "  Downloading tzdata-2025.2-py2.py3-none-any.whl.metadata (1.4 kB)\n",
      "Requirement already satisfied: six>=1.5 in /home/gitpod/.pyenv/versions/3.12.9/lib/python3.12/site-packages (from python-dateutil>=2.8.2->pandas) (1.17.0)\n",
      "Downloading pandas-2.2.3-cp312-cp312-manylinux_2_17_x86_64.manylinux2014_x86_64.whl (12.7 MB)\n",
      "\u001b[2K   \u001b[90m━━━━━━━━━━━━━━━━━━━━━━━━━━━━━━━━━━━━━━━━\u001b[0m \u001b[32m12.7/12.7 MB\u001b[0m \u001b[31m185.7 MB/s\u001b[0m eta \u001b[36m0:00:00\u001b[0m\n",
      "\u001b[?25hDownloading numpy-2.2.4-cp312-cp312-manylinux_2_17_x86_64.manylinux2014_x86_64.whl (16.1 MB)\n",
      "\u001b[2K   \u001b[90m━━━━━━━━━━━━━━━━━━━━━━━━━━━━━━━━━━━━━━━━\u001b[0m \u001b[32m16.1/16.1 MB\u001b[0m \u001b[31m177.6 MB/s\u001b[0m eta \u001b[36m0:00:00\u001b[0m\n",
      "\u001b[?25hDownloading pytz-2025.2-py2.py3-none-any.whl (509 kB)\n",
      "Downloading tzdata-2025.2-py2.py3-none-any.whl (347 kB)\n",
      "Installing collected packages: pytz, tzdata, numpy, pandas\n",
      "Successfully installed numpy-2.2.4 pandas-2.2.3 pytz-2025.2 tzdata-2025.2\n",
      "Note: you may need to restart the kernel to use updated packages.\n"
     ]
    }
   ],
   "source": [
    "pip install pandas"
   ]
  },
  {
   "cell_type": "code",
   "execution_count": 8,
   "metadata": {},
   "outputs": [],
   "source": [
    "import pandas as pd\n",
    "import os"
   ]
  },
  {
   "cell_type": "code",
   "execution_count": null,
   "metadata": {},
   "outputs": [],
   "source": [
    "query_path = '/workspace/COMP3608-Project/animal-clef-2025/images/LynxID2025/query'\n",
    "database_path = '/workspace/COMP3608-Project/animal-clef-2025/images/LynxID2025/database'\n",
    "\n",
    "image_files = []\n",
    "labels = []\n",
    "\n",
    "for filename in os.listdir(query_path):\n",
    "    if filename.endswith(('.jpg', '.jpeg', '.png', 'JPG')):\n",
    "        image_files.append(os.path.join(query_path, filename))\n",
    "        labels.append('lynx')\n",
    "\n",
    "for filename in os.listdir(database_path):\n",
    "    if filename.endswith(('.jpg', '.png', '.jpeg', 'JPG')):\n",
    "        image_files.append(os.path.join(database_path, filename))\n",
    "        labels.append('lynx')\n",
    "\n",
    "Lynx_df = pd.DataFrame({'label': labels, 'image_path':image_files})\n"
   ]
  },
  {
   "cell_type": "code",
   "execution_count": null,
   "metadata": {},
   "outputs": [],
   "source": [
    "\n",
    "query_path = '/workspace/COMP3608-Project/animal-clef-2025/images/SalamanderID2025/query/images'\n",
    "database_path = '/workspace/COMP3608-Project/animal-clef-2025/images/SalamanderID2025/database/images'\n",
    "\n",
    "image_files = []\n",
    "labels = []\n",
    "\n",
    "for filename in os.listdir(query_path):\n",
    "    if filename.endswith(('.jpg', '.jpeg', '.png', 'JPG')):\n",
    "        image_files.append(os.path.join(query_path, filename))\n",
    "        labels.append('salamander')\n",
    "\n",
    "for filename in os.listdir(database_path):\n",
    "    if filename.endswith(('.jpg', '.png', '.jpeg', 'JPG')):\n",
    "        image_files.append(os.path.join(database_path, filename))\n",
    "        labels.append('salamander')\n",
    "\n",
    "Salamander_df = pd.DataFrame({'label': labels, 'image_path':image_files})"
   ]
  },
  {
   "cell_type": "code",
   "execution_count": 42,
   "metadata": {},
   "outputs": [],
   "source": [
    "query_path = '/workspace/COMP3608-Project/animal-clef-2025/images/SeaTurtleID2022/query/images'\n",
    "database_path = '/workspace/COMP3608-Project/animal-clef-2025/images/SeaTurtleID2022/database/turtles-data/data/images'\n",
    "\n",
    "image_files = []\n",
    "labels = []\n",
    "\n",
    "# Loop through the query path\n",
    "for filename in os.listdir(query_path):\n",
    "    if filename.endswith(('.jpg', '.jpeg', '.png', 'JPG')):\n",
    "        image_files.append(os.path.join(query_path, filename))\n",
    "        labels.append('sea_turtle')\n",
    "\n",
    "# Loop through the database path, including subfolders\n",
    "for root, dirs, files in os.walk(database_path):\n",
    "    for filename in files:\n",
    "        if filename.endswith(('.jpg', '.png', '.jpeg', 'JPG')):\n",
    "            image_files.append(os.path.join(root, filename))\n",
    "            labels.append('sea_turtle')\n",
    "\n",
    "# Create DataFrame\n",
    "SeaTurtle_df = pd.DataFrame({'label': labels, 'image_path': image_files})"
   ]
  },
  {
   "cell_type": "code",
   "execution_count": null,
   "metadata": {},
   "outputs": [],
   "source": [
    "path = '/workspace/COMP3608-Project/WildlifeReID-10k'\n",
    "\n",
    "image_files = []\n",
    "labels = []\n",
    "\n",
    "for root, dirs, files in os.walk(path):\n",
    "    for filename in files:\n",
    "        if filename.endswith(('.jpg', '.png', '.jpeg', 'JPG')):\n",
    "            image_files.append(os.path.join(root, filename))\n",
    "            labels.append('unknown')\n",
    "\n",
    "unknown_df = pd.DataFrame({'label': labels, 'image path': image_files})"
   ]
  },
  {
   "cell_type": "code",
   "execution_count": 56,
   "metadata": {},
   "outputs": [],
   "source": [
    "Lynx_df.to_csv('lynx.csv')"
   ]
  },
  {
   "cell_type": "code",
   "execution_count": 55,
   "metadata": {},
   "outputs": [],
   "source": [
    "Salamander_df.to_csv('salamander.csv')"
   ]
  },
  {
   "cell_type": "code",
   "execution_count": 54,
   "metadata": {},
   "outputs": [],
   "source": [
    "SeaTurtle_df.to_csv('seaturtle.csv')"
   ]
  },
  {
   "cell_type": "code",
   "execution_count": 53,
   "metadata": {},
   "outputs": [],
   "source": [
    "dataset_df = pd.concat([Lynx_df, Salamander_df, SeaTurtle_df, unknown_df], ignore_index=True)\n",
    "dataset_df.to_csv('dataset.csv')"
   ]
  },
  {
   "cell_type": "code",
   "execution_count": null,
   "metadata": {},
   "outputs": [],
   "source": []
  }
 ],
 "metadata": {
  "kernelspec": {
   "display_name": "Python 3",
   "language": "python",
   "name": "python3"
  },
  "language_info": {
   "codemirror_mode": {
    "name": "ipython",
    "version": 3
   },
   "file_extension": ".py",
   "mimetype": "text/x-python",
   "name": "python",
   "nbconvert_exporter": "python",
   "pygments_lexer": "ipython3",
   "version": "3.12.9"
  }
 },
 "nbformat": 4,
 "nbformat_minor": 2
}
