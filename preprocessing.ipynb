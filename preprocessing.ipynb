{
 "cells": [
  {
   "cell_type": "markdown",
   "metadata": {},
   "source": [
    "# Code to resize the images in animal-clef-2025\n",
    "You likely will not need to run this code as I will provide the preprocessed images."
   ]
  },
  {
   "cell_type": "code",
   "execution_count": null,
   "metadata": {},
   "outputs": [],
   "source": [
    "pip install Pillow"
   ]
  },
  {
   "cell_type": "code",
   "execution_count": null,
   "metadata": {},
   "outputs": [],
   "source": [
    "import os\n",
    "from PIL import Image\n",
    "\n",
    "def resize_images_in_folder(parent_folder, size):\n",
    "    # Walk through all subfolders and files in the given parent folder\n",
    "    for root, dirs, files in os.walk(parent_folder):\n",
    "        for file in files:\n",
    "            # Construct full file path\n",
    "            file_path = os.path.join(root, file)\n",
    "            try:\n",
    "                # Open and resize the image\n",
    "                with Image.open(file_path) as img:\n",
    "                    img_resized = img.resize(size)\n",
    "                    # Save the resized image, optionally overwrite the original or save to a new location\n",
    "                    img_resized.save(file_path)  # overwrites original\n",
    "                    print(f\"Resized and saved: {file_path}\")\n",
    "            except Exception as e:\n",
    "                print(f\"Could not process {file_path}: {e}\")\n",
    "\n",
    "# Define the path of the 'images' folder\n",
    "images_folder = '/workspace/COMP3608-Project/animal-clef-2025/images'\n",
    "# Call the function to resize images\n",
    "resize_images_in_folder(images_folder, size=(400, 400))  # Change size as needed"
   ]
  },
  {
   "cell_type": "code",
   "execution_count": null,
   "metadata": {},
   "outputs": [],
   "source": [
    "from PIL import Image\n",
    "\n",
    "img_path = \"/workspace/COMP3608-Project/animal-clef-2025/images/SeaTurtleID2022/query/images/ff7f5223631a5629_499.JPG\"\n",
    "img = Image.open(img_path)\n",
    "print(img.size)"
   ]
  },
  {
   "cell_type": "code",
   "execution_count": null,
   "metadata": {},
   "outputs": [],
   "source": [
    "import os\n",
    "from PIL import Image\n",
    "\n",
    "def resize_images_in_folder(parent_folder, size):\n",
    "    # Walk through all subfolders and files in the given parent folder\n",
    "    for root, dirs, files in os.walk(parent_folder):\n",
    "        for file in files:\n",
    "            # Construct full file path\n",
    "            file_path = os.path.join(root, file)\n",
    "            try:\n",
    "                # Open and resize the image\n",
    "                with Image.open(file_path) as img:\n",
    "                    img_resized = img.resize(size)\n",
    "                    # Save the resized image, optionally overwrite the original or save to a new location\n",
    "                    img_resized.save(file_path)  # overwrites original\n",
    "                    print(f\"Resized and saved: {file_path}\")\n",
    "            except Exception as e:\n",
    "                print(f\"Could not process {file_path}: {e}\")\n",
    "\n",
    "# Define the path of the 'images' folder\n",
    "images_folder = '/workspace/COMP3608-Project/WildlifeReID-10k'\n",
    "# Call the function to resize images\n",
    "resize_images_in_folder(images_folder, size=(400, 400))  # Change size as needed"
   ]
  },
  {
   "cell_type": "code",
   "execution_count": null,
   "metadata": {},
   "outputs": [],
   "source": [
    "from PIL import Image\n",
    "\n",
    "img_path = \"/workspace/COMP3608-Project/WildlifeReID-10k/ZindiTurtleRecall/ID_ZZQZJBRE_ID_ZZQZJBRE.JPG\"\n",
    "img = Image.open(img_path)\n",
    "print(img.size)"
   ]
  }
 ],
 "metadata": {
  "kernelspec": {
   "display_name": "Python 3",
   "language": "python",
   "name": "python3"
  },
  "language_info": {
   "codemirror_mode": {
    "name": "ipython",
    "version": 3
   },
   "file_extension": ".py",
   "mimetype": "text/x-python",
   "name": "python",
   "nbconvert_exporter": "python",
   "pygments_lexer": "ipython3",
   "version": "3.12.9"
  }
 },
 "nbformat": 4,
 "nbformat_minor": 2
}
