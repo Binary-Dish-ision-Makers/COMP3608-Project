{
  "nbformat": 4,
  "nbformat_minor": 0,
  "metadata": {
    "colab": {
      "provenance": []
    },
    "kernelspec": {
      "name": "python3",
      "display_name": "Python 3"
    },
    "language_info": {
      "name": "python"
    }
  },
  "cells": [
    {
      "cell_type": "code",
      "source": [
        "import pandas as pd\n",
        "\n",
        "# File paths\n",
        "csv_files = ['lynx_nn.csv', 'sea_turtle_submission_nn.csv', 'salamander_submission_final.csv']\n",
        "\n",
        "# Combine while handling headers\n",
        "dfs = []\n",
        "for i, file in enumerate(csv_files):\n",
        "    if i == 0:\n",
        "        df = pd.read_csv(file)\n",
        "    else:\n",
        "        df = pd.read_csv(file, skiprows=1, header=None)\n",
        "        df.columns = dfs[0].columns\n",
        "    dfs.append(df)\n",
        "\n",
        "# Concatenate\n",
        "combined_df = pd.concat(dfs, ignore_index=True)\n",
        "\n",
        "# Sort by ID column\n",
        "combined_df = combined_df.sort_values(by='image_id')\n",
        "\n",
        "# Save\n",
        "combined_df.to_csv('m3_submission.csv', index=False)\n",
        "\n",
        "print(\" Combined and sorted CSV saved as 'm3_submission.csv'\")\n"
      ],
      "metadata": {
        "colab": {
          "base_uri": "https://localhost:8080/"
        },
        "id": "d2YGUCketxgX",
        "outputId": "a9b83a6a-934a-41be-9c4c-795871b93528"
      },
      "execution_count": 4,
      "outputs": [
        {
          "output_type": "stream",
          "name": "stdout",
          "text": [
            " Combined and sorted CSV saved as 'm3_submission.csv'\n"
          ]
        }
      ]
    },
    {
      "cell_type": "code",
      "source": [
        "import pandas as pd\n",
        "\n",
        "# Load prediction CSV and metadata\n",
        "preds_df = pd.read_csv(\"salamander_predictions.csv\")\n",
        "meta_df = pd.read_csv(\"metadata_fixed.csv\")\n",
        "\n",
        "# Replace any 'unknown' predictions with 'new_individual'\n",
        "\n",
        "\n",
        "# Merge with metadata to get image_id from path\n",
        "merged_df = pd.merge(preds_df, meta_df[['path', 'image_id']], on='path', how='left')\n",
        "\n",
        "# Select and rename columns to match submission format\n",
        "submission_df = merged_df[['image_id', 'predicted_id']].rename(columns={'predicted_id': 'identity'})\n",
        "\n",
        "# Drop any rows without image_id (if any), cast ID to int, and sort\n",
        "submission_df = submission_df.dropna().astype({'image_id': int}).sort_values('image_id')\n",
        "\n",
        "# Save final submission CSV\n",
        "submission_df.to_csv(\"salamander_submission_final.csv\", index=False)\n",
        "print(\"Submission file saved: salamander_submission_final.csv\")\n"
      ],
      "metadata": {
        "id": "hZ3NV-l2tySH",
        "colab": {
          "base_uri": "https://localhost:8080/"
        },
        "outputId": "2acca209-cc37-41f9-8f05-03b7a4f72c8d"
      },
      "execution_count": 3,
      "outputs": [
        {
          "output_type": "stream",
          "name": "stdout",
          "text": [
            "Submission file saved: salamander_submission_final.csv\n"
          ]
        }
      ]
    }
  ]
}